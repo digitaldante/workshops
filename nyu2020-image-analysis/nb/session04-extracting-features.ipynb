{
 "cells": [
  {
   "cell_type": "markdown",
   "metadata": {},
   "source": [
    "# Session 04: Image Data in Python\n",
    "\n",
    "In this final session, we are going to look a bit closer are how\n",
    "images are stored in Python and some simple things we can start\n",
    "doing with them."
   ]
  },
  {
   "cell_type": "markdown",
   "metadata": {},
   "source": [
    "## Setup\n",
    "\n",
    "We need to load the modules within each notebook. Here, we load the\n",
    "same set as in the previous question."
   ]
  },
  {
   "cell_type": "code",
   "execution_count": null,
   "metadata": {},
   "outputs": [],
   "source": [
    "%pylab inline\n",
    "\n",
    "import numpy as np\n",
    "import scipy as sp\n",
    "import pandas as pd\n",
    "import urllib\n",
    "\n",
    "import os\n",
    "from os.path import join"
   ]
  },
  {
   "cell_type": "code",
   "execution_count": null,
   "metadata": {},
   "outputs": [],
   "source": [
    "import matplotlib.pyplot as plt\n",
    "import matplotlib.patches as patches\n",
    "\n",
    "plt.rcParams[\"figure.figsize\"] = (8,8)"
   ]
  },
  {
   "cell_type": "markdown",
   "metadata": {},
   "source": [
    "## Python arrays\n",
    "\n"
   ]
  },
  {
   "cell_type": "markdown",
   "metadata": {},
   "source": [
    "Much of what we need to do in Python concerning images will involve manipulating\n",
    "collections of numbers, known as arrays. We will not have time to give a full\n",
    "introduction to arrays, but here are some of the most important things to keep\n",
    "in mind.\n",
    "\n",
    "Here is a one-dimensional array, which is just a linear collection of numbers."
   ]
  },
  {
   "cell_type": "code",
   "execution_count": null,
   "metadata": {},
   "outputs": [],
   "source": [
    "ar = np.array([4, 1, 2, 0, 7, 6, 9, 2, 8, 1, 0, 3])\n",
    "ar"
   ]
  },
  {
   "cell_type": "markdown",
   "metadata": {},
   "source": [
    "We can access a particular element in the array using a square bracket with the\n",
    "number of element we want to access. However, Python starts numbering things at\n",
    "zero. So to get the first element we need to write `ar[0]`:"
   ]
  },
  {
   "cell_type": "code",
   "execution_count": null,
   "metadata": {},
   "outputs": [],
   "source": [
    "ar[0]"
   ]
  },
  {
   "cell_type": "markdown",
   "metadata": {},
   "source": [
    "The third element, similarly, can be accessed as:"
   ]
  },
  {
   "cell_type": "code",
   "execution_count": null,
   "metadata": {},
   "outputs": [],
   "source": [
    "ar[2]"
   ]
  },
  {
   "cell_type": "markdown",
   "metadata": {},
   "source": [
    "**Write and run the code  in the box below that accesses the 7th element of the array\n",
    "(which is equal to 9)**"
   ]
  },
  {
   "cell_type": "code",
   "execution_count": null,
   "metadata": {},
   "outputs": [],
   "source": []
  },
  {
   "cell_type": "markdown",
   "metadata": {},
   "source": [
    "Arrays can also be a two-dimensional grid of numbers. For example,\n",
    "here is an array with three rows and four columns."
   ]
  },
  {
   "cell_type": "code",
   "execution_count": null,
   "metadata": {},
   "outputs": [],
   "source": [
    "ar = np.array([4, 1, 2, 0, 7, 6, 9, 2, 8, 1, 0, 3]).reshape((3,4))\n",
    "ar"
   ]
  },
  {
   "cell_type": "markdown",
   "metadata": {},
   "source": [
    "To access an element in two dimensions, we need to specify the row number,\n",
    "a comma, and then the column number. Again, Python starts at zero."
   ]
  },
  {
   "cell_type": "code",
   "execution_count": null,
   "metadata": {},
   "outputs": [],
   "source": [
    "ar[1, 2]"
   ]
  },
  {
   "cell_type": "markdown",
   "metadata": {},
   "source": [
    "Finally, we can access a full row or column by using a colon `:`. It is\n",
    "interpreted as selecting every row/column. "
   ]
  },
  {
   "cell_type": "code",
   "execution_count": null,
   "metadata": {
    "scrolled": false
   },
   "outputs": [],
   "source": [
    "print(ar[0, :])\n",
    "print(ar[:, 2])"
   ]
  },
  {
   "cell_type": "markdown",
   "metadata": {},
   "source": [
    "Being familiar with this notation will be useful in the following code snippets, but\n",
    "you will not be required to write any array-based code from scratch so do not worry\n",
    "if this notation is new to you."
   ]
  },
  {
   "cell_type": "markdown",
   "metadata": {},
   "source": [
    "## Images in Python\n",
    "\n",
    "Let's read our teapot image into Python once more."
   ]
  },
  {
   "cell_type": "code",
   "execution_count": null,
   "metadata": {},
   "outputs": [],
   "source": [
    "img = imread(join(\"..\", \"images\", \"test\", \"teapot.jpg\"))"
   ]
  },
  {
   "cell_type": "markdown",
   "metadata": {},
   "source": [
    "How exactly is Python storing the teapot image? Understanding the\n",
    "internal structure of an image object will be very important.\n",
    "We can get some idea by looking at the `shape` property of the image object"
   ]
  },
  {
   "cell_type": "code",
   "execution_count": null,
   "metadata": {},
   "outputs": [],
   "source": [
    "img.shape"
   ]
  },
  {
   "cell_type": "markdown",
   "metadata": {},
   "source": [
    "It turns out that Python stores images as an array of numbers, but here the\n",
    "array has three dimensions. We can think of it as storing color images as\n",
    "three grids of numbers. These numbers tell Python the degree to which each\n",
    "pixel should be represented by red, green, and blue light. The shape above\n",
    "tells us that the image is 2016 pixels high and 1512 pixels wide. The third\n",
    "number reminds us that the image contains red, green, and blue pixels.\n",
    "\n",
    "We can print out the actual numbers in the image object, though looking at all\n",
    "of the numbers would be overwhelming. Let's took a slice of the `img` object\n",
    "from 1000-1010 vertical axis and 600-610 on the horizontal axis."
   ]
  },
  {
   "cell_type": "code",
   "execution_count": null,
   "metadata": {},
   "outputs": [],
   "source": [
    "print(\"Red:\")\n",
    "print(img[1000:1010, 600:610, 0])\n",
    "\n",
    "print(\"Green:\")\n",
    "print(img[1000:1010, 600:610, 1])\n",
    "\n",
    "print(\"Blue:\")\n",
    "print(img[1000:1010, 600:610, 2])"
   ]
  },
  {
   "cell_type": "markdown",
   "metadata": {},
   "source": [
    "The numbers in the image object range from 0 to 255. The higher the number the more\n",
    "that color shows up in a given pixel. If all three colors are 255 that would lead to\n",
    "a white pixel; all three equal to 0 gives a black pixel. \n",
    "\n",
    "Above, we see that the red pixels are larger than the green and blue. Does this make\n",
    "sense given the image of my teapot and the part of the image that we selected above?"
   ]
  },
  {
   "cell_type": "markdown",
   "metadata": {},
   "source": [
    "**Your turn.** Read in a photograph from the dataset you created from wikipedia."
   ]
  },
  {
   "cell_type": "code",
   "execution_count": null,
   "metadata": {},
   "outputs": [],
   "source": [
    "img = imread(join(\"..\", \"images\", \"example\", \"\"))"
   ]
  },
  {
   "cell_type": "markdown",
   "metadata": {},
   "source": [
    "In the code block below, **write and execute the code to plot the new image**."
   ]
  },
  {
   "cell_type": "code",
   "execution_count": null,
   "metadata": {},
   "outputs": [],
   "source": []
  },
  {
   "cell_type": "markdown",
   "metadata": {},
   "source": [
    "Copy and re-run the code we used to see the amount of red, green, and blue pixels used\n",
    "in the middle of the photo."
   ]
  },
  {
   "cell_type": "code",
   "execution_count": null,
   "metadata": {},
   "outputs": [],
   "source": []
  },
  {
   "cell_type": "markdown",
   "metadata": {},
   "source": [
    "Which color is the most dominant? Is it the one you would expect. How do\n",
    "these colors compare to the ones we saw for the teapot image?"
   ]
  },
  {
   "cell_type": "markdown",
   "metadata": {},
   "source": [
    "## Describing images numerically\n",
    "\n",
    "As we saw, images in Python are represented by large tables of numbers. However, the\n",
    "values for an individual pixel are not particularly meaningful. It is only the image\n",
    "as a whole that holds a larger meaning to us. At the heart of this tutorial is finding\n",
    "ways to bridge the gap between numeric data and visual meaning. As a warning going \n",
    "forward: this is not an easy or entirely solved process, so do not get discourage by\n",
    "our first few attempts.\n",
    "\n",
    "We have already seen that we can make some sense of an image by looking at the relative\n",
    "amount of red, green, and blue pixels that it uses. We can't look at every single pixel,\n",
    "however. Another strategy would be to take the average of the three color channels. \n",
    "Reading the teapot image back in, we can see this with the following code:"
   ]
  },
  {
   "cell_type": "code",
   "execution_count": null,
   "metadata": {},
   "outputs": [],
   "source": [
    "img = imread(join(\"..\", \"images\", \"test\", \"teapot.jpg\"))\n",
    "\n",
    "print(\"\\nRed mean:\")\n",
    "print(np.mean(img[:, :, 0]))\n",
    "        \n",
    "print(\"\\nGreen mean:\")\n",
    "print(np.mean(img[:, :, 1]))\n",
    "        \n",
    "print(\"\\nBlue mean:\")\n",
    "print(np.mean(img[:, :, 2]))"
   ]
  },
  {
   "cell_type": "markdown",
   "metadata": {},
   "source": [
    "Again, we see that this shows that the teapot has a lot of the color\n",
    "red. How does this work for the image from your set?"
   ]
  },
  {
   "cell_type": "code",
   "execution_count": null,
   "metadata": {},
   "outputs": [],
   "source": [
    "img = imread(join(\"..\", \"images\", \"example\", \"city.JPG\"))\n",
    "\n",
    "print(\"\\nRed mean:\")\n",
    "print(np.mean(img[:, :, 0]))\n",
    "        \n",
    "print(\"\\nGreen mean:\")\n",
    "print(np.mean(img[:, :, 1]))\n",
    "        \n",
    "print(\"\\nBlue mean:\")\n",
    "print(np.mean(img[:, :, 2]))"
   ]
  },
  {
   "cell_type": "markdown",
   "metadata": {},
   "source": [
    "As an alternative, let's compute a new table of numbers `img_maxcol` showing the maximum\n",
    "value of all the intensities for a given pixel. Similarly, we will compute `img_mincol`\n",
    "as the minimum color intensity for a pixel. Notice that these have the same number of row\n",
    "and columns as the original image"
   ]
  },
  {
   "cell_type": "code",
   "execution_count": null,
   "metadata": {},
   "outputs": [],
   "source": [
    "img = imread(join(\"..\", \"images\", \"test\", \"teapot.jpg\"))\n",
    "\n",
    "img_maxcol = np.amax(img, 2)\n",
    "img_mincol = np.amin(img, 2)\n",
    "print(img_maxcol.shape)\n",
    "print(img_mincol.shape)"
   ]
  },
  {
   "cell_type": "markdown",
   "metadata": {},
   "source": [
    "We can define a quantity called the *saturation*, which measures the richness of a color,\n",
    "as the difference between the maximum and minimum pixel intensities divided by the maximum\n",
    "intensitiy. Applying this to teapot:"
   ]
  },
  {
   "cell_type": "code",
   "execution_count": null,
   "metadata": {},
   "outputs": [],
   "source": [
    "img_sat = (img_maxcol - img_mincol) / img_maxcol\n",
    "plt.imshow(img_sat, cmap='gray')"
   ]
  },
  {
   "cell_type": "markdown",
   "metadata": {},
   "source": [
    "Shows that the image is highly saturated on the body of the pot, but not very\n",
    "saturated in the white background. These should seem sensible when thinking \n",
    "about the definition we used for saturation. Let's also compute the mean saturation\n",
    "of the image as we did for the average value of the pixel intensities."
   ]
  },
  {
   "cell_type": "code",
   "execution_count": null,
   "metadata": {},
   "outputs": [],
   "source": [
    "np.mean(img_sat)"
   ]
  },
  {
   "cell_type": "markdown",
   "metadata": {},
   "source": [
    "Tomorrow, we will see in the next section that the average saturation is a reasonable\n",
    "measurement for comparing images."
   ]
  },
  {
   "cell_type": "code",
   "execution_count": null,
   "metadata": {},
   "outputs": [],
   "source": []
  }
 ],
 "metadata": {
  "kernelspec": {
   "display_name": "Python 3",
   "language": "python",
   "name": "python3"
  },
  "language_info": {
   "codemirror_mode": {
    "name": "ipython",
    "version": 3
   },
   "file_extension": ".py",
   "mimetype": "text/x-python",
   "name": "python",
   "nbconvert_exporter": "python",
   "pygments_lexer": "ipython3",
   "version": "3.7.3"
  },
  "widgets": {
   "state": {},
   "version": "1.1.2"
  }
 },
 "nbformat": 4,
 "nbformat_minor": 2
}
