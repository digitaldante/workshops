{
 "cells": [
  {
   "cell_type": "markdown",
   "metadata": {},
   "source": [
    "# Session 03: Working with Image Corpora\n",
    "\n",
    "As this workshop is about image data, we wanted to start with images\n",
    "in Python as soon as possible. Here we show how to organize a corpus \n",
    "of images and how to read data about images into Python."
   ]
  },
  {
   "cell_type": "markdown",
   "metadata": {},
   "source": [
    "## Setup\n",
    "\n",
    "We need to load several python modules that provide functionalities that\n",
    "will be used throughout this tutorial. We will also set-up some default parameters\n",
    "that make the graphical output easier to look at. **Make sure you run this block\n",
    "of code prior to proceeding.**"
   ]
  },
  {
   "cell_type": "code",
   "execution_count": 1,
   "metadata": {},
   "outputs": [
    {
     "name": "stdout",
     "output_type": "stream",
     "text": [
      "Populating the interactive namespace from numpy and matplotlib\n"
     ]
    }
   ],
   "source": [
    "%pylab inline\n",
    "\n",
    "import numpy as np\n",
    "import scipy as sp\n",
    "import pandas as pd\n",
    "import urllib\n",
    "\n",
    "import os\n",
    "from os.path import join"
   ]
  },
  {
   "cell_type": "code",
   "execution_count": 2,
   "metadata": {},
   "outputs": [],
   "source": [
    "import matplotlib.pyplot as plt\n",
    "import matplotlib.patches as patches\n",
    "\n",
    "plt.rcParams[\"figure.figsize\"] = (8,8)"
   ]
  },
  {
   "cell_type": "code",
   "execution_count": 3,
   "metadata": {},
   "outputs": [
    {
     "data": {
      "text/plain": [
       "<function matplotlib.pyplot.imread(fname, format=None)>"
      ]
     },
     "execution_count": 3,
     "metadata": {},
     "output_type": "execute_result"
    }
   ],
   "source": [
    "imread"
   ]
  },
  {
   "cell_type": "markdown",
   "metadata": {},
   "source": [
    "### Loading an image into Python\n",
    "\n",
    "We are now ready to read an image file into Python. We have several corpora that we\n",
    "will be working with, but for now let's just read in a test\n",
    "image I took of a teapot in my kitchen at home. To do this, we need to tell\n",
    "Python where the image is: its in a directory called 'test', which is inside\n",
    "a directory called 'images' and the file is called 'teapot.jpg'). Once we have\n",
    "the filename, we can read in the image into Python with the function `imread`\n",
    "as follows:"
   ]
  },
  {
   "cell_type": "code",
   "execution_count": null,
   "metadata": {},
   "outputs": [],
   "source": [
    "img = imread(join(\"..\", \"images\", \"test\", \"teapot.jpg\"))"
   ]
  },
  {
   "cell_type": "markdown",
   "metadata": {},
   "source": [
    "There is now an object in python called `img` that contains all of the data that\n",
    "describes my image of a teapot. We can have Python print the image itself by \n",
    "calling the function `plt.imshow` on the image, as follows:"
   ]
  },
  {
   "cell_type": "code",
   "execution_count": null,
   "metadata": {
    "scrolled": false
   },
   "outputs": [],
   "source": [
    "plt.imshow(img)"
   ]
  },
  {
   "cell_type": "markdown",
   "metadata": {},
   "source": [
    "It may not look like much, but trust me, it makes delicious tea."
   ]
  },
  {
   "cell_type": "markdown",
   "metadata": {},
   "source": [
    "### Building a corpus with metadata\n",
    "\n",
    "In the next session we will dive into how images are actually represented\n",
    "in Python and what we can and want to do with image data. Now, though, let's\n",
    "talk a bit about how one should organize a corpus of images.\n",
    "\n",
    "To start, create a subfolder in the images directory called 'example'. Then,\n",
    "go find 3-5 images on [wikipedia](https://www.wikipedia.org/). Please do not\n",
    "pick an SVG image (more on this later). Make sure to keep the pages for these\n",
    "files open as we will need the information.\n",
    "\n",
    "Next, open a spreadsheet file in your favorite spreadsheet program (Excel, OpenOffice,\n",
    "Google Sheets, ect.). In the very first row, it is important that you do not\n",
    "leave any blank rows/columns, write the following column names:\n",
    "\n",
    "- **page**\n",
    "- **description**\n",
    "- **date**\n",
    "- **source**\n",
    "- **author**\n",
    "- **url**\n",
    "- **filename**\n",
    "\n",
    "Fill these fields in using the information contained in the first 6 fields. Then,\n",
    "create a filename for each image. For the filenames you can use anything that consists\n",
    "of only letter, numbers, dashes, and underscores (no spaces). Make sure to include\n",
    "a file extension that matches the original image file.\n",
    "\n",
    "When you are done, export the data as comma seperated values (csv) file named \n",
    "`example.csv`. Save the file in the directory `data`."
   ]
  },
  {
   "cell_type": "markdown",
   "metadata": {},
   "source": [
    "### Reading csv files with pandas\n",
    "\n",
    "We are now going to use the pandas library to read in the csv file that you\n",
    "created. We will read the file into a python object called `df`."
   ]
  },
  {
   "cell_type": "code",
   "execution_count": null,
   "metadata": {},
   "outputs": [],
   "source": [
    "df = pd.read_csv(join(\"..\", \"data\", \"example.csv\"))"
   ]
  },
  {
   "cell_type": "markdown",
   "metadata": {},
   "source": [
    "We can print out the pandas data frame object by including it in a cell\n",
    "line all by itself."
   ]
  },
  {
   "cell_type": "code",
   "execution_count": null,
   "metadata": {},
   "outputs": [],
   "source": [
    "df"
   ]
  },
  {
   "cell_type": "markdown",
   "metadata": {},
   "source": [
    "There is a particular reason that we included columns for the url and filename.\n",
    "In general, the other fields are flexible and you can modify to suit the needs\n",
    "of your corpus.\n",
    "\n",
    "It will be useful to grab certain parts of this object. To access a particular\n",
    "column, follow the name of the dataset with a dot and the name of the column:"
   ]
  },
  {
   "cell_type": "code",
   "execution_count": null,
   "metadata": {},
   "outputs": [],
   "source": [
    "df.page"
   ]
  },
  {
   "cell_type": "markdown",
   "metadata": {},
   "source": [
    "To get a specific row of the column, follow this with square brackets and\n",
    "the number of the row that you want. Note that Python starts numberin at zero\n",
    "rather than one."
   ]
  },
  {
   "cell_type": "code",
   "execution_count": null,
   "metadata": {},
   "outputs": [],
   "source": [
    "df.page[2] "
   ]
  },
  {
   "cell_type": "markdown",
   "metadata": {},
   "source": [
    "Try to access the url of the first image in the corpus:"
   ]
  },
  {
   "cell_type": "code",
   "execution_count": null,
   "metadata": {},
   "outputs": [],
   "source": []
  },
  {
   "cell_type": "markdown",
   "metadata": {},
   "source": [
    "### Hydrating the corpus (Part 1)\n",
    "\n",
    "Currently we only have metadata about the images, but not copies of the\n",
    "images themselves. We need to download these from the urls giving in the\n",
    "data. This is a process called *hyrdration*. It is a useful way of passing\n",
    "some datasets because (1) it avoids issues with ToS from some websites, and\n",
    "(2) drastically reduces the file sizes that need to be shared with others.\n",
    "\n",
    "Let's start by seeing how to download the first image in the data. You already\n",
    "saw how to get the url of the file; where do we want the output of the file?\n",
    "Let's put it in our `examples` directory and name it according to the filename\n",
    "column in the metadata."
   ]
  },
  {
   "cell_type": "code",
   "execution_count": null,
   "metadata": {},
   "outputs": [],
   "source": [
    "output_file = join(\"..\", \"images\", \"example\", df.filename[0])\n",
    "output_file"
   ]
  },
  {
   "cell_type": "markdown",
   "metadata": {},
   "source": [
    "Now, to actually download the file run the following:"
   ]
  },
  {
   "cell_type": "code",
   "execution_count": null,
   "metadata": {},
   "outputs": [],
   "source": [
    "urllib.request.urlretrieve(df.url[0], output_file)"
   ]
  },
  {
   "cell_type": "markdown",
   "metadata": {},
   "source": [
    "Go into the directory and confirm that the image is loaded into the directory."
   ]
  },
  {
   "cell_type": "markdown",
   "metadata": {},
   "source": [
    "### Hydrating the corpus (Part 2)\n",
    "\n",
    "We now want to repeat the process above for each row in the dataset. Here,\n",
    "with just three rows, we could manually change the zeros to ones, re-run\n",
    "the code, change the ones to twos, and then be finish. In general, though,\n",
    "we need a better way of cycling through every row in the dataset. To do\n",
    "this, we need a `for` loop. \n",
    "\n",
    "In a loop, we write code that will get run multiple times. On each execution\n",
    "one variable, called the index, will change. Here's a simple example that prints\n",
    "out every number from 0 through 6:"
   ]
  },
  {
   "cell_type": "code",
   "execution_count": null,
   "metadata": {},
   "outputs": [],
   "source": [
    "for i in range(7):\n",
    "    print(i)"
   ]
  },
  {
   "cell_type": "markdown",
   "metadata": {},
   "source": [
    "Notice that the code is indented by four spaces (the notebook will help you\n",
    "by inserting a tab whenever you make a tab) and the value of i changes each\n",
    "time the code is run. Here's another example that prints out the description\n",
    "of each row in our metadata:"
   ]
  },
  {
   "cell_type": "code",
   "execution_count": null,
   "metadata": {},
   "outputs": [],
   "source": [
    "for i in range(df.shape[0]):\n",
    "    print(df.description[i])"
   ]
  },
  {
   "cell_type": "markdown",
   "metadata": {},
   "source": [
    "Now, try to download images for all rows in your dataset using a loop in Python:"
   ]
  },
  {
   "cell_type": "code",
   "execution_count": null,
   "metadata": {},
   "outputs": [],
   "source": [
    "for i in range(df.shape[0]):\n",
    "    output_file = join(\"..\", \"images\", \"example\", df.filename[i])\n",
    "    urllib.request.urlretrieve(df.url[i], output_file)"
   ]
  },
  {
   "cell_type": "code",
   "execution_count": null,
   "metadata": {},
   "outputs": [],
   "source": []
  }
 ],
 "metadata": {
  "kernelspec": {
   "display_name": "Python 3",
   "language": "python",
   "name": "python3"
  },
  "language_info": {
   "codemirror_mode": {
    "name": "ipython",
    "version": 3
   },
   "file_extension": ".py",
   "mimetype": "text/x-python",
   "name": "python",
   "nbconvert_exporter": "python",
   "pygments_lexer": "ipython3",
   "version": "3.7.3"
  }
 },
 "nbformat": 4,
 "nbformat_minor": 2
}
