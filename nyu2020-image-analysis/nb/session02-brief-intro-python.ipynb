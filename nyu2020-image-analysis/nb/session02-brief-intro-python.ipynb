{
 "cells": [
  {
   "cell_type": "markdown",
   "metadata": {},
   "source": [
    "# Session 02: A Brief Introduction to Python\n",
    "\n",
    "In this notebook, we will walk through the basics of running code in Python\n",
    "within a Jupyter notebook."
   ]
  },
  {
   "cell_type": "markdown",
   "metadata": {},
   "source": [
    "## Jupyer Notebooks\n",
    "\n",
    "Python notebooks consist of *cells* that contain either text (in markdown) or\n",
    "code. You can run the code by highlighting the call and clicking the Run\n",
    "button above. If you have used RMarkdown, IPython notebooks are similar but\n",
    "function slightly differently. One big difference is that a IPython notebook\n",
    "saves the output by default in the notebook itself.\n",
    "\n",
    "### Run a cell\n",
    "\n",
    "Try to run the code snippet below by clicking on the cell and selecting the\n",
    "Run button above."
   ]
  },
  {
   "cell_type": "code",
   "execution_count": 1,
   "metadata": {},
   "outputs": [
    {
     "data": {
      "text/plain": [
       "2"
      ]
     },
     "execution_count": 1,
     "metadata": {},
     "output_type": "execute_result"
    }
   ],
   "source": [
    "1 + 1"
   ]
  },
  {
   "cell_type": "markdown",
   "metadata": {},
   "source": [
    "You can also run a cell by typing Shift + Enter on the keyboard. This\n",
    "will automatically move to the next cell; doing this is an easy way to\n",
    "run multiple lines together. Test the shortcut here:"
   ]
  },
  {
   "cell_type": "code",
   "execution_count": 2,
   "metadata": {},
   "outputs": [
    {
     "data": {
      "text/plain": [
       "3"
      ]
     },
     "execution_count": 2,
     "metadata": {},
     "output_type": "execute_result"
    }
   ],
   "source": [
    "1 + 2"
   ]
  },
  {
   "cell_type": "markdown",
   "metadata": {},
   "source": [
    "In the cells below, write and run code to determine the product of 82 and 91."
   ]
  },
  {
   "cell_type": "code",
   "execution_count": 5,
   "metadata": {},
   "outputs": [
    {
     "data": {
      "text/plain": [
       "7462"
      ]
     },
     "execution_count": 5,
     "metadata": {},
     "output_type": "execute_result"
    }
   ],
   "source": [
    "82 * 91"
   ]
  },
  {
   "cell_type": "markdown",
   "metadata": {},
   "source": [
    "You can add new code block using the `+` sign on the menu (to the left of the\n",
    "Run button). This adds a new code cell below whatever block you are currently\n",
    "on. So, click on this box and add a new code block. Compute the value of 81 divided\n",
    "by 10."
   ]
  },
  {
   "cell_type": "markdown",
   "metadata": {},
   "source": [
    "### Make your own text box\n",
    "\n",
    "Now, let's make your own text cell. Click on the empty cell below. Then,\n",
    "select the dropdown menu to the right of Run button and choose the option\n",
    "\"Markdown\". Then put a message in the cell and Run it. The result should\n",
    "be a new text box."
   ]
  },
  {
   "cell_type": "code",
   "execution_count": null,
   "metadata": {},
   "outputs": [],
   "source": []
  },
  {
   "cell_type": "markdown",
   "metadata": {},
   "source": [
    "### Controlling the kernel\n",
    "\n",
    "You'll notice that ever time you run a cell there is a number that shows up next\n",
    "to the exectued code. This value increases each time you run a cell. We can entirely\n",
    "restart the notebook and clear all of the output by selecting\n",
    "`Kernel=>\"Restart and Clear Output\"` in the menu. **Try this now**.\n",
    "\n",
    "When you save a Jupyter notebook both the code and results are saved. This\n",
    "has benefits and drawbacks (easier to pass results around but much larger files).\n",
    "Note though that the Python environment is **not** saved. So, you'll need to\n",
    "reload datasets and redefine variables. More on this later."
   ]
  },
  {
   "cell_type": "markdown",
   "metadata": {},
   "source": [
    "## Python Modules\n",
    "\n",
    "Python modules provide a way of packaging code in a reusable way. Much later we will see\n",
    "how to create our own modules. For now, the focus will be on loading modules that provide\n",
    "basic functionality beyond the standard functions available in the base language. These\n",
    "consist of (1) the Python standard library, and (2) third-party software. The first are\n",
    "available on all systems running Python. The second need to be installed on top of the\n",
    "basic language."
   ]
  },
  {
   "cell_type": "markdown",
   "metadata": {},
   "source": [
    "### Standard library\n",
    "\n",
    "Let's start by loading the `sys` module, which provides access to some variables\n",
    "used or maintained by the interpreter and to functions that interact strongly\n",
    "with the interpreter.\n",
    "\n",
    "To load the module just run this:"
   ]
  },
  {
   "cell_type": "code",
   "execution_count": null,
   "metadata": {},
   "outputs": [],
   "source": [
    "import sys"
   ]
  },
  {
   "cell_type": "markdown",
   "metadata": {},
   "source": [
    "To run a function or access a variable inside an imported module, we use a notation\n",
    "that starts with the module name followed by a dot and then the object name, like\n",
    "this: `module.object`. For example, `sys` has an object called `version` that describes\n",
    "the version of Python that is currently installed. We can access it like this:"
   ]
  },
  {
   "cell_type": "code",
   "execution_count": null,
   "metadata": {},
   "outputs": [],
   "source": [
    "sys.version"
   ]
  },
  {
   "cell_type": "markdown",
   "metadata": {},
   "source": [
    "Jupyter notebooks provide an easy way of seeing all of the objects in a module.\n",
    "Start by typing the module name followed be a dot, then hit the \"Tab\" button on\n",
    "your keyboard. A menu of all available objects will appear. Try that here and\n",
    "select an element to see what happens. "
   ]
  },
  {
   "cell_type": "code",
   "execution_count": null,
   "metadata": {},
   "outputs": [],
   "source": [
    "sys."
   ]
  },
  {
   "cell_type": "markdown",
   "metadata": {},
   "source": [
    "### Anaconda modules\n",
    "\n",
    "One benefit of using Anaconda Python is that it includes by default many\n",
    "modules in addition to the standard library. One library that we will use heavily is\n",
    "called `numpy`. Let's try to load this library as well. Here we will use a slightly \n",
    "different command that defines an alias for the library (`np` is a very common alias\n",
    "for `numpy` that you will see in many scripts and examples):"
   ]
  },
  {
   "cell_type": "code",
   "execution_count": null,
   "metadata": {},
   "outputs": [],
   "source": [
    "import numpy as np"
   ]
  },
  {
   "cell_type": "markdown",
   "metadata": {},
   "source": [
    "Now, to access an object in the numpy module, we type `np` (rather than `numpy`)\n",
    "followed by a dot and then the object name. For example, we can test the absolute\n",
    "value function:"
   ]
  },
  {
   "cell_type": "code",
   "execution_count": null,
   "metadata": {},
   "outputs": [],
   "source": [
    "np.abs(-100)"
   ]
  },
  {
   "cell_type": "markdown",
   "metadata": {},
   "source": [
    "The python scientific stack, which we will use in most tutorials, consists of\n",
    "the following four modules and common aliases:"
   ]
  },
  {
   "cell_type": "code",
   "execution_count": 7,
   "metadata": {},
   "outputs": [],
   "source": [
    "import numpy as np\n",
    "import scipy as sp\n",
    "import pandas as pd\n",
    "import matplotlib.pyplot as plt"
   ]
  },
  {
   "cell_type": "markdown",
   "metadata": {},
   "source": [
    "Make sure that these load okay an your system. We will learn more about these modules\n",
    "throughout the semester."
   ]
  },
  {
   "cell_type": "markdown",
   "metadata": {},
   "source": [
    "### Additional modules\n",
    "\n",
    "Anaconda Python comes with many of the modules needed for general purpose \n",
    "data science work. We need to install several others to help us work with \n",
    "text and image data. \n",
    "\n",
    "The way that you install these is slightly different depending on your\n",
    "platform.\n",
    "\n",
    "- **macOS** / **linux**: open up a terminal window and type `which conda`.\n",
    "If should print out a path with \"anaconda3\" in the name.\n",
    "- **windows**: anaconda python should have installed a program called\n",
    "Anaconda Prompt. Open this and type the commands below into the prompt.\n",
    "\n",
    "Now, the first thing we need to do is to update `conda`, the package manager\n",
    "for our version of Python. Do this by typing the following into the terminal\n",
    "or prompt:\n",
    "\n",
    "```\n",
    "conda update --all\n",
    "```\n",
    "\n",
    "Now, install the keras library with the following:\n",
    "\n",
    "```\n",
    "conda install keras\n",
    "```\n",
    "\n",
    "Once that is done, you should be able to load `keras` within this Python \n",
    "notebook. Try it here:"
   ]
  },
  {
   "cell_type": "code",
   "execution_count": null,
   "metadata": {},
   "outputs": [],
   "source": [
    "import keras"
   ]
  },
  {
   "cell_type": "markdown",
   "metadata": {},
   "source": [
    "Note that it may give a warning or message; this is okay as long as you do not have\n",
    "an error. Now, proceed to install three other libraries (run each line one at a time,\n",
    "and select `y` if prompted with a qustion):\n",
    "\n",
    "```\n",
    "conda install opencv\n",
    "conda install dlib\n",
    "conda install tensorflow\n",
    "```\n",
    "\n",
    "**Note:** I fully expect some of you to have errors with some of these packages.\n",
    "Don't get too frustrated. I am doing this now, well before we need any of these \n",
    "so that I have plenty of time to help you.\n",
    "\n",
    "Finally, check that each package you installed can be loaded ok:"
   ]
  },
  {
   "cell_type": "code",
   "execution_count": null,
   "metadata": {},
   "outputs": [],
   "source": [
    "import cv2       # this is the name of the opencv library"
   ]
  },
  {
   "cell_type": "code",
   "execution_count": null,
   "metadata": {},
   "outputs": [],
   "source": [
    "import dlib"
   ]
  },
  {
   "cell_type": "code",
   "execution_count": null,
   "metadata": {},
   "outputs": [],
   "source": [
    "import tensorflow"
   ]
  },
  {
   "cell_type": "markdown",
   "metadata": {},
   "source": [
    "I just tested all of these on my computer and they worked fine. If you run into\n",
    "an issues please let me as soon as possible!"
   ]
  },
  {
   "cell_type": "markdown",
   "metadata": {},
   "source": [
    "### Installing data\n",
    "\n",
    "The `keras` and `spacy` modules also need some external data. Let's\n",
    "try to load those now to make sure everything is working as expected."
   ]
  },
  {
   "cell_type": "code",
   "execution_count": null,
   "metadata": {},
   "outputs": [],
   "source": [
    "import keras.applications\n",
    "\n",
    "vgg_model = keras.applications.vgg16.VGG16(weights='imagenet')"
   ]
  },
  {
   "cell_type": "markdown",
   "metadata": {},
   "source": [
    "Again, please let us know if you have any trouble with these steps. I'd like to\n",
    "figure them out before we actually need these libraries."
   ]
  },
  {
   "cell_type": "markdown",
   "metadata": {},
   "source": [
    "-------\n",
    "\n",
    "## Practice\n",
    "\n",
    "There is not much to practice yet, but let's see how to\n",
    "explore a module in Python. First, import the `platform`\n",
    "module:"
   ]
  },
  {
   "cell_type": "code",
   "execution_count": null,
   "metadata": {},
   "outputs": [],
   "source": []
  },
  {
   "cell_type": "markdown",
   "metadata": {},
   "source": [
    "Now, run the command `dir(platform)` to see all of the functions in\n",
    "the `os` module. This is the same as using the `.` and tab\n",
    "notation above."
   ]
  },
  {
   "cell_type": "code",
   "execution_count": null,
   "metadata": {},
   "outputs": [],
   "source": []
  },
  {
   "cell_type": "markdown",
   "metadata": {},
   "source": [
    "Let's say you are interested in the function `platform.system`. To\n",
    "find out more about this function, type the command\n",
    "`help(platform.system)` in the code block below:"
   ]
  },
  {
   "cell_type": "code",
   "execution_count": null,
   "metadata": {},
   "outputs": [],
   "source": []
  },
  {
   "cell_type": "markdown",
   "metadata": {},
   "source": [
    "Based on the help page, what do you think would be the result of\n",
    "running `platform.system` on your machine?"
   ]
  },
  {
   "cell_type": "markdown",
   "metadata": {},
   "source": [
    "**Answer:**"
   ]
  },
  {
   "cell_type": "markdown",
   "metadata": {},
   "source": [
    "Try running the command `playform.system` below:"
   ]
  },
  {
   "cell_type": "code",
   "execution_count": null,
   "metadata": {},
   "outputs": [],
   "source": []
  },
  {
   "cell_type": "markdown",
   "metadata": {},
   "source": [
    "Does the answer match your expectation? If not, try to figure out why!"
   ]
  },
  {
   "cell_type": "markdown",
   "metadata": {},
   "source": [
    "## Python Coding Basics\n",
    "\n",
    "This section of notes are adapted from the Python tutorial available at: https://docs.python.org/3/tutorial/.\n",
    "\n",
    "Here we see the basic functionality of Python by using it as a fancy calculator."
   ]
  },
  {
   "cell_type": "markdown",
   "metadata": {},
   "source": [
    "### Comments\n",
    "\n",
    "Many of the examples in these tutorials, even those entered at the interactive prompt, include comments. Comments in Python start with the hash character, #, and extend to the end of the physical line. A comment may appear at the start of a line or following whitespace or code, but not within a string literal. A hash character within a string literal is just a hash character. Since comments are to clarify code and are not interpreted by Python, they may be omitted when typing in examples."
   ]
  },
  {
   "cell_type": "code",
   "execution_count": null,
   "metadata": {},
   "outputs": [],
   "source": [
    "# this is the first comment\n",
    "spam = 1  # and this is the second comment\n",
    "          # ... and now a third!\n",
    "text = \"# This is not a comment because it's inside quotes.\""
   ]
  },
  {
   "cell_type": "markdown",
   "metadata": {},
   "source": [
    "### Using Python as a Calculator\n",
    "\n",
    "The interpreter acts as a simple calculator: you can type an expression at it and it will write the value. Expression syntax is straightforward: the operators +, -, * and / work just like in most other languages (for example, Pascal or C); parentheses (()) can be used for grouping. For example:"
   ]
  },
  {
   "cell_type": "code",
   "execution_count": null,
   "metadata": {},
   "outputs": [],
   "source": [
    "2 + 2"
   ]
  },
  {
   "cell_type": "code",
   "execution_count": null,
   "metadata": {},
   "outputs": [],
   "source": [
    "50 - 5*6"
   ]
  },
  {
   "cell_type": "code",
   "execution_count": null,
   "metadata": {},
   "outputs": [],
   "source": [
    "(50 - 5*6) / 4"
   ]
  },
  {
   "cell_type": "code",
   "execution_count": null,
   "metadata": {},
   "outputs": [],
   "source": [
    "8 / 5              # division always returns a floating point number"
   ]
  },
  {
   "cell_type": "markdown",
   "metadata": {},
   "source": [
    "The integer numbers (e.g. 2, 4, 20) have type int, the ones with a fractional part (e.g. 5.0, 1.6) have type float. \n",
    "\n",
    "Division (/) always returns a float. To do floor division and get an integer result (discarding any fractional result) you can use the // operator; to calculate the remainder you can use %:"
   ]
  },
  {
   "cell_type": "code",
   "execution_count": null,
   "metadata": {},
   "outputs": [],
   "source": [
    "17 / 3             # classic division returns a float"
   ]
  },
  {
   "cell_type": "code",
   "execution_count": null,
   "metadata": {},
   "outputs": [],
   "source": [
    "17 // 3            # floor division discards the fractional part"
   ]
  },
  {
   "cell_type": "code",
   "execution_count": null,
   "metadata": {},
   "outputs": [],
   "source": [
    "17 % 3             # the % operator returns the remainder of the division"
   ]
  },
  {
   "cell_type": "code",
   "execution_count": null,
   "metadata": {},
   "outputs": [],
   "source": [
    "5 * 3 + 2          # result * divisor + remainder"
   ]
  },
  {
   "cell_type": "markdown",
   "metadata": {},
   "source": [
    "With Python, it is possible to use the ** operator to calculate powers:"
   ]
  },
  {
   "cell_type": "code",
   "execution_count": null,
   "metadata": {},
   "outputs": [],
   "source": [
    "5 ** 2  # 5 squared"
   ]
  },
  {
   "cell_type": "code",
   "execution_count": null,
   "metadata": {},
   "outputs": [],
   "source": [
    "2 ** 7  # 2 to the power of 7"
   ]
  },
  {
   "cell_type": "markdown",
   "metadata": {},
   "source": [
    "### Assigning variables\n",
    "\n",
    "The equal sign (=) is used to assign a value to a variable. Afterwards, no result is displayed before the next interactive prompt:"
   ]
  },
  {
   "cell_type": "code",
   "execution_count": null,
   "metadata": {},
   "outputs": [],
   "source": [
    "width = 20\n",
    "height = 5 * 9\n",
    "width * height"
   ]
  },
  {
   "cell_type": "markdown",
   "metadata": {},
   "source": [
    "If a variable is not “defined” (assigned a value), trying to use it will give you an error:"
   ]
  },
  {
   "cell_type": "code",
   "execution_count": null,
   "metadata": {},
   "outputs": [],
   "source": [
    "n  # try to access an undefined variable"
   ]
  },
  {
   "cell_type": "markdown",
   "metadata": {},
   "source": [
    "Make sure that you review these notes several times, particularly if you\n",
    "have not prior experience with programming."
   ]
  },
  {
   "cell_type": "code",
   "execution_count": null,
   "metadata": {},
   "outputs": [],
   "source": []
  },
  {
   "cell_type": "code",
   "execution_count": null,
   "metadata": {},
   "outputs": [],
   "source": []
  }
 ],
 "metadata": {
  "kernelspec": {
   "display_name": "Python 3",
   "language": "python",
   "name": "python3"
  },
  "language_info": {
   "codemirror_mode": {
    "name": "ipython",
    "version": 3
   },
   "file_extension": ".py",
   "mimetype": "text/x-python",
   "name": "python",
   "nbconvert_exporter": "python",
   "pygments_lexer": "ipython3",
   "version": "3.7.3"
  }
 },
 "nbformat": 4,
 "nbformat_minor": 2
}
