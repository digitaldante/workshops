{
 "cells": [
  {
   "cell_type": "markdown",
   "metadata": {},
   "source": [
    "# Session 05: Hue, Saturation, and Value\n",
    "\n",
    "In this set of notes we see a way of converting images from RGB\n",
    "space into HSV space and how this is useful in image analysis."
   ]
  },
  {
   "cell_type": "markdown",
   "metadata": {},
   "source": [
    "## Setup\n",
    "\n",
    "We need to load the modules within each notebook. Here, we load the\n",
    "same set as in the previous question."
   ]
  },
  {
   "cell_type": "code",
   "execution_count": null,
   "metadata": {},
   "outputs": [],
   "source": [
    "%pylab inline\n",
    "\n",
    "import numpy as np\n",
    "import scipy as sp\n",
    "import pandas as pd\n",
    "import urllib\n",
    "\n",
    "import os\n",
    "from os.path import join"
   ]
  },
  {
   "cell_type": "code",
   "execution_count": null,
   "metadata": {},
   "outputs": [],
   "source": [
    "import matplotlib.pyplot as plt\n",
    "import matplotlib.patches as patches\n",
    "\n",
    "plt.rcParams[\"figure.figsize\"] = (8,8)"
   ]
  },
  {
   "cell_type": "markdown",
   "metadata": {},
   "source": [
    "## Hue, Saturation, and Value\n",
    "\n",
    "Last time we saw how images in Python are, by default, stored as red,\n",
    "green, and blue intensities. We can think of this as representing the\n",
    "image by patches like this:\n",
    "\n",
    "![pixel](https://files.tested.com/photos/2012/03/16/55-20518-rgb.jpg)\n",
    "\n",
    "These are great for displaying the image on a screen, but we've seen\n",
    "that the overall amount of red, green, and blue is a bit misleading. A\n",
    "pix may have a lot of red because: it's red, it's purple, it's orange,\n",
    "or it is white/light gray.\n",
    "\n",
    "There is another set of three numbers that describe an image, called\n",
    "hue, saturation, and value. These more closely map onto meaningful \n",
    "elements of the image itself. Here is a look at the three variables:\n",
    "\n",
    "![hsv](https://upload.wikimedia.org/wikipedia/commons/thumb/3/33/HSV_color_solid_cylinder_saturation_gray.png/640px-HSV_color_solid_cylinder_saturation_gray.png)\n",
    "\n",
    "We will see how to compute these with images\n",
    "and how they help to distinguish between images."
   ]
  },
  {
   "cell_type": "markdown",
   "metadata": {},
   "source": [
    "## HSV with Teapot\n",
    "\n",
    "Let's start once more with the teapot image. We will read it into Python and\n",
    "display it in the notebook."
   ]
  },
  {
   "cell_type": "code",
   "execution_count": null,
   "metadata": {},
   "outputs": [],
   "source": [
    "img = imread(join(\"..\", \"images\", \"test\", \"teapot.jpg\"))\n",
    "plt.imshow(img)"
   ]
  },
  {
   "cell_type": "markdown",
   "metadata": {},
   "source": [
    "Last time we constructed the **saturation** of the image:"
   ]
  },
  {
   "cell_type": "code",
   "execution_count": null,
   "metadata": {},
   "outputs": [],
   "source": [
    "img_maxcol = np.amax(img, 2)\n",
    "img_mincol = np.amin(img, 2)\n",
    "img_sat = (img_maxcol - img_mincol) / img_maxcol"
   ]
  },
  {
   "cell_type": "markdown",
   "metadata": {},
   "source": [
    "And visualized it using the following:"
   ]
  },
  {
   "cell_type": "code",
   "execution_count": null,
   "metadata": {},
   "outputs": [],
   "source": [
    "plt.imshow(img_sat, cmap='gray')"
   ]
  },
  {
   "cell_type": "markdown",
   "metadata": {},
   "source": [
    "The **value** is another way to describe each pixel. Specifically, it describes\n",
    "how bright each pixel in the image is. We can compute the brightness according\n",
    "to the average value of each of the pixel intensities."
   ]
  },
  {
   "cell_type": "code",
   "execution_count": null,
   "metadata": {},
   "outputs": [],
   "source": [
    "img_value = np.mean(img, 2)"
   ]
  },
  {
   "cell_type": "markdown",
   "metadata": {},
   "source": [
    "And visualized it using the following:"
   ]
  },
  {
   "cell_type": "code",
   "execution_count": null,
   "metadata": {},
   "outputs": [],
   "source": [
    "plt.imshow(img_value, cmap='gray')"
   ]
  },
  {
   "cell_type": "markdown",
   "metadata": {},
   "source": [
    "Notice that this is just a greyscale version of the original image.\n",
    "\n",
    "The **hue** gives the color of the pixel using a familiar color wheel:\n",
    "\n",
    "![hue](https://upload.wikimedia.org/wikipedia/commons/thumb/a/ad/HueScale.svg/640px-HueScale.svg.png)\n",
    "\n",
    "It is a bit harder to compute the hue just using simple arithmetic. We\n",
    "will instead use the `rgb_to_hsv` function from matplotlib to conver the\n",
    "entire image into hsv space."
   ]
  },
  {
   "cell_type": "code",
   "execution_count": null,
   "metadata": {},
   "outputs": [],
   "source": [
    "img_hsv = matplotlib.colors.rgb_to_hsv(img)\n",
    "img_hsv.shape"
   ]
  },
  {
   "cell_type": "markdown",
   "metadata": {},
   "source": [
    "How might we visulize the hue in the image? One way that I like to use is to\n",
    "create a new image that has a saturation and value of 1 but with the hue of\n",
    "the original image. Let's try to do that here:"
   ]
  },
  {
   "cell_type": "code",
   "execution_count": null,
   "metadata": {},
   "outputs": [],
   "source": [
    "img_new = img_hsv.copy()                              # make a copy of the image\n",
    "img_new[:, :, 1] = 1                                  # set saturation to 1\n",
    "img_new[:, :, 2] = 1                                  # set value to 1\n",
    "img_new_rgb = matplotlib.colors.hsv_to_rgb(img_new)   # convert back to rgb to print"
   ]
  },
  {
   "cell_type": "markdown",
   "metadata": {},
   "source": [
    "And we can then view the image as follows:"
   ]
  },
  {
   "cell_type": "code",
   "execution_count": null,
   "metadata": {},
   "outputs": [],
   "source": [
    "plt.imshow(img_new_rgb)"
   ]
  },
  {
   "cell_type": "markdown",
   "metadata": {},
   "source": [
    "There's a bit of problem, here, though. The white and black background\n",
    "gets assigned almost at random to a hue. If a pixel is unsaturated, it\n",
    "is very hard to tell what the color is. One minor change that we can\n",
    "make is to make the image white wherever the saturation or value is \n",
    "particularly extreme:"
   ]
  },
  {
   "cell_type": "code",
   "execution_count": null,
   "metadata": {},
   "outputs": [],
   "source": [
    "img_new = img_hsv.copy()                             # make a copy of the image\n",
    "img_new[:, :, 1] = 1                                 # set saturation to 1\n",
    "img_new[:, :, 2] = 1                                 # set value to 1\n",
    "\n",
    "img_new[img_hsv[:, :, 1] < 0.2, 1] = 0               # set saturation to 0 (white) if unsaturated \n",
    "img_new[img_hsv[:, :, 1] < 0.2, 1] = 0               # set saturation to 0 (white) if unsaturated\n",
    "\n",
    "img_new_rgb = matplotlib.colors.hsv_to_rgb(img_new)  # convert back to rgb to print"
   ]
  },
  {
   "cell_type": "code",
   "execution_count": null,
   "metadata": {},
   "outputs": [],
   "source": [
    "plt.imshow(img_new_rgb)\n",
    "plt.axis('off')"
   ]
  },
  {
   "cell_type": "markdown",
   "metadata": {},
   "source": [
    "## With your corpus\n",
    "\n",
    "Take a moment to use one of the images you had created last time and do\n",
    "a similar plot with the hue. Try to copy only the code that you need to\n",
    "make this work; it is a good test that you understand what each part of\n",
    "the code is doing."
   ]
  },
  {
   "cell_type": "code",
   "execution_count": null,
   "metadata": {},
   "outputs": [],
   "source": []
  },
  {
   "cell_type": "markdown",
   "metadata": {},
   "source": [
    "## Aggregating hue with a histogram\n",
    "\n",
    "We have been talking about how to extract features from our data. Hue is an \n",
    "interesting way of extracting information about an image."
   ]
  },
  {
   "cell_type": "code",
   "execution_count": null,
   "metadata": {},
   "outputs": [],
   "source": [
    "img_hue = img_hsv[:, :, 0]              # grab the hue\n",
    "img_hue[img_hsv[:, :, 1] < 0.2] = -1    # set to 1.1 if unsaturated"
   ]
  },
  {
   "cell_type": "markdown",
   "metadata": {},
   "source": [
    "We can then plot how much each of these hue occurs (we will block out the\n",
    "very unsaturated colors):"
   ]
  },
  {
   "cell_type": "code",
   "execution_count": null,
   "metadata": {},
   "outputs": [],
   "source": [
    "x = plt.hist(img_hue.flatten(), bins=30, range=(0, 1))\n",
    "cnt = x[0]"
   ]
  },
  {
   "cell_type": "markdown",
   "metadata": {},
   "source": [
    "And here are the raw counts that we could use as features:"
   ]
  },
  {
   "cell_type": "code",
   "execution_count": null,
   "metadata": {},
   "outputs": [],
   "source": [
    "cnt"
   ]
  },
  {
   "cell_type": "markdown",
   "metadata": {},
   "source": [
    "## What's next?\n",
    "\n",
    "We finally have some features that are interesting enough that we can do some\n",
    "interesting analysis of an entire corpus of images. We will get to that in the\n",
    "next set of notes."
   ]
  },
  {
   "cell_type": "code",
   "execution_count": null,
   "metadata": {},
   "outputs": [],
   "source": []
  }
 ],
 "metadata": {
  "kernelspec": {
   "display_name": "Python 3",
   "language": "python",
   "name": "python3"
  },
  "language_info": {
   "codemirror_mode": {
    "name": "ipython",
    "version": 3
   },
   "file_extension": ".py",
   "mimetype": "text/x-python",
   "name": "python",
   "nbconvert_exporter": "python",
   "pygments_lexer": "ipython3",
   "version": "3.7.3"
  },
  "widgets": {
   "state": {},
   "version": "1.1.2"
  }
 },
 "nbformat": 4,
 "nbformat_minor": 2
}
