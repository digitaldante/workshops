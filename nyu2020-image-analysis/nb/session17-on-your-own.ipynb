{
 "cells": [
  {
   "cell_type": "markdown",
   "metadata": {},
   "source": [
    "# Session 17: Recommendation system on your own\n",
    "\n",
    "This script should allow you to build an interactive website from your own\n",
    "dataset. If you run into any issues, please let us know!"
   ]
  },
  {
   "cell_type": "markdown",
   "metadata": {},
   "source": [
    "## Step 1: Select the corpus\n",
    "\n",
    "In the block below, insert the name of your corpus. There should \n",
    "be images in the directory \"images\". If there is metadata, it should\n",
    "be in the directory \"data\" with the name of the corpus as the file name.\n",
    "\n",
    "Also, if there is metadata, there must be a column called filename (with\n",
    "the filename to the image) and a column called title."
   ]
  },
  {
   "cell_type": "code",
   "execution_count": null,
   "metadata": {},
   "outputs": [],
   "source": [
    "cn = \"test\""
   ]
  },
  {
   "cell_type": "markdown",
   "metadata": {},
   "source": [
    "## Step 2: Read in the Functions\n",
    "\n",
    "You need to read in all of the modules and functions below."
   ]
  },
  {
   "cell_type": "code",
   "execution_count": null,
   "metadata": {},
   "outputs": [],
   "source": [
    "%pylab inline\n",
    "\n",
    "import numpy as np\n",
    "import scipy as sp\n",
    "import pandas as pd\n",
    "import sklearn\n",
    "from sklearn import linear_model\n",
    "import urllib\n",
    "\n",
    "import os\n",
    "from os.path import join"
   ]
  },
  {
   "cell_type": "code",
   "execution_count": null,
   "metadata": {},
   "outputs": [],
   "source": [
    "from keras.applications.vgg19 import VGG19\n",
    "from keras.preprocessing import image\n",
    "from keras.applications.vgg19 import preprocess_input, decode_predictions\n",
    "from keras.models import Model"
   ]
  },
  {
   "cell_type": "code",
   "execution_count": null,
   "metadata": {},
   "outputs": [],
   "source": [
    "os.environ[\"KMP_DUPLICATE_LIB_OK\"] = \"TRUE\""
   ]
  },
  {
   "cell_type": "code",
   "execution_count": null,
   "metadata": {},
   "outputs": [],
   "source": [
    "def check_create_metadata(cn):\n",
    "    mdata = join(\"..\", \"data\", cn + \".csv\")\n",
    "\n",
    "    if not os.path.exists(mdata):\n",
    "        exts = [\".jpg\", \".JPG\", \".JPEG\", \".png\"]\n",
    "        fnames = [x for x in os.listdir(join('..', 'images', cn)) if get_ext(x) in exts]\n",
    "   \n",
    "        df = pd.DataFrame({'filename': fnames, 'title': fnames})\n",
    "        df.to_csv(mdata, index=False)"
   ]
  },
  {
   "cell_type": "code",
   "execution_count": null,
   "metadata": {},
   "outputs": [],
   "source": [
    "def create_embed(corpus_name):\n",
    "    \n",
    "    ofile = join(\"..\", \"data\", corpus_name + \"_vgg19_fc2.npy\")\n",
    "    \n",
    "    if not os.path.exists(ofile):\n",
    "\n",
    "        vgg19_full = VGG19(weights='imagenet')\n",
    "        vgg_fc2 = Model(inputs=vgg19_full.input, outputs=vgg19_full.get_layer('fc2').output)\n",
    "        \n",
    "        df = pd.read_csv(join(\"..\", \"data\", corpus_name + \".csv\"))\n",
    "        output = np.zeros((len(df), 224, 224, 3))\n",
    "\n",
    "        for i in range(len(df)):\n",
    "            img_path = join(\"..\", \"images\", corpus_name, df.filename[i])\n",
    "            img = image.load_img(img_path, target_size=(224, 224))\n",
    "            x = image.img_to_array(img)\n",
    "            output[i, :, :, :] = x\n",
    "            if (i % 100) == 0:\n",
    "                print(\"Loaded image {0:03d}\".format(i))\n",
    "\n",
    "        output = preprocess_input(output)\n",
    "        img_embed = vgg_fc2.predict(output, verbose=True)\n",
    "\n",
    "        np.save(ofile, img_embed)"
   ]
  },
  {
   "cell_type": "code",
   "execution_count": null,
   "metadata": {},
   "outputs": [],
   "source": [
    "def rm_ext(s):\n",
    "    return os.path.splitext(s)[0]\n",
    "\n",
    "def get_ext(s):\n",
    "    return os.path.splitext(s)[-1]"
   ]
  },
  {
   "cell_type": "code",
   "execution_count": null,
   "metadata": {},
   "outputs": [],
   "source": [
    "def clean_html():    \n",
    "    if not os.path.exists(join(\"..\", \"html\")):\n",
    "        os.makedirs(join(\"..\", \"html\"))\n",
    "        \n",
    "    if not os.path.exists(join(\"..\", \"html\", \"pages\")):\n",
    "        os.makedirs(join(\"..\", \"html\", \"pages\"))\n",
    "        \n",
    "    for p in [x for x in os.listdir(join('..', 'html', 'pages')) if get_ext(x) in [\".html\", \"html\"]]:\n",
    "        os.remove(join('..', 'html', 'pages', p))"
   ]
  },
  {
   "cell_type": "code",
   "execution_count": null,
   "metadata": {},
   "outputs": [],
   "source": [
    "def load_data(cn):\n",
    "    X = np.load(join(\"..\", \"data\", cn + \"_vgg19_fc2.npy\"))\n",
    "    return X"
   ]
  },
  {
   "cell_type": "code",
   "execution_count": null,
   "metadata": {},
   "outputs": [],
   "source": [
    "def write_header(f, cn, index=False):\n",
    "    loc = \"\"\n",
    "    if not index:\n",
    "        loc = \"../\"\n",
    "    \n",
    "    f.write(\"<html>\\n\")\n",
    "    f.write('  <link rel=\"icon\" href=\"{0:s}img/favicon.ico\">\\n'.format(loc))\n",
    "    f.write('  <title>Distant Viewing Tutorial</title>\\n\\n')\n",
    "    f.write('  <link rel=\"stylesheet\" type=\"text/css\" href=\"{0:s}css/bootstrap.min.css\">'.format(loc))\n",
    "    f.write('  <link href=\"https://fonts.googleapis.com/css?family=Rubik+27px\" rel=\"stylesheet\">')\n",
    "    f.write('  <link rel=\"stylesheet\" type=\"text/css\" href=\"{0:s}css/dv.css\">\\n\\n'.format(loc))\n",
    "\n",
    "    f.write(\"<body>\\n\")\n",
    "    f.write('  <div class=\"d-flex flex-column flex-md-row align-items-center p-3 px-md-4')\n",
    "    f.write('mb-3 bg-white border-bottom box-shadow\">\\n')\n",
    "    f.write('    <h4 class=\"my-0 mr-md-auto font-weight-normal\">Distant Viewing Tutorial Explorer')\n",
    "    f.write('&mdash; {0:s}</h4>\\n'.format(cn.capitalize()))\n",
    "    f.write('    <a class=\"btn btn-outline-primary\" href=\"{0:s}index.html\">Back to Index</a>\\n'.format(loc))\n",
    "    f.write('  </div>\\n')\n",
    "    f.write('\\n')"
   ]
  },
  {
   "cell_type": "code",
   "execution_count": null,
   "metadata": {},
   "outputs": [],
   "source": [
    "def corpus_to_html(corpus):\n",
    "    pd.set_option('display.max_colwidth', -1)\n",
    "    tc = corpus.copy()\n",
    "    for index in range(tc.shape[0]):\n",
    "        fname = rm_ext(os.path.split(tc['filename'][index])[1])\n",
    "        title = rm_ext(tc['filename'][index])\n",
    "        s = \"<a href='pages/{0:s}.html'>{1:s}</a>\".format(fname, title)\n",
    "        tc.iloc[index, tc.columns.get_loc('title')] = s\n",
    "\n",
    "    tc = tc.drop(['filename'], axis=1)\n",
    "    return tc.to_html(index=False, escape=False, justify='center')"
   ]
  },
  {
   "cell_type": "code",
   "execution_count": null,
   "metadata": {},
   "outputs": [],
   "source": [
    "def create_index(cn, corpus):\n",
    "    f = open(join('..', 'html', 'index.html'), 'w')\n",
    "    write_header(f, cn=cn, index=True)\n",
    "    f.write('  <div style=\"padding:20px; max-width:1000px\">\\n')\n",
    "\n",
    "    f.write(corpus_to_html(corpus))\n",
    "\n",
    "    f.write('  </div>\\n')\n",
    "    f.write(\"</body>\\n\")\n",
    "    f.close()"
   ]
  },
  {
   "cell_type": "code",
   "execution_count": null,
   "metadata": {},
   "outputs": [],
   "source": [
    "def get_infobox(corpus, item):\n",
    "    infobox = []\n",
    "    for k, v in corpus.iloc[item].to_dict().items():\n",
    "        if k != \"filename\":\n",
    "            infobox = infobox + [\"<p><b>\" + str(k).capitalize() + \":</b> \" + str(v) + \"</p>\"]\n",
    "    return infobox"
   ]
  },
  {
   "cell_type": "code",
   "execution_count": null,
   "metadata": {},
   "outputs": [],
   "source": [
    "def save_metadata(f, cn, corpus, X, item):\n",
    "    infobox = get_infobox(corpus, item)\n",
    "    \n",
    "    f.write(\"<div style='width: 1000px;'>\\n\")\n",
    "    f.write(\"\\n\".join(infobox))\n",
    "    if item > 0:\n",
    "        link = rm_ext(os.path.split(corpus['filename'][item - 1])[-1])\n",
    "        f.write(\"<p align='center'><a href='{0:s}.html'>&#60;&#60; previous image</a> &nbsp;&nbsp;&nbsp;&nbsp;\\n\".format(link))\n",
    "\n",
    "    if item + 1 < X.shape[0]:\n",
    "        link = rm_ext(os.path.split(corpus['filename'][item + 1])[-1])\n",
    "        f.write(\"&nbsp;&nbsp;&nbsp;&nbsp; <a href='{0:s}.html'>next image &#62;&#62;</a></p>\\n\".format(link))\n",
    "\n",
    "    f.write(\"</div>\\n\")"
   ]
  },
  {
   "cell_type": "code",
   "execution_count": null,
   "metadata": {},
   "outputs": [],
   "source": [
    "def save_similar_img(f, cn, corpus, X, item):\n",
    "    dists = np.sum(np.abs(X - X[item, :]), 1)\n",
    "    idx = np.argsort(dists.flatten())[1:13]\n",
    "        \n",
    "    f.write(\"<div style='clear:both; width: 1000px; padding-top: 30px'>\\n\")\n",
    "    f.write(\"<h4>Similar Images:</h4>\\n\")\n",
    "    f.write(\"<div class='similar'>\\n\")\n",
    "\n",
    "    for img_path in corpus['filename'][idx].tolist():\n",
    "        hpath = rm_ext(os.path.split(img_path)[1])\n",
    "        f.write('<a href=\"{0:s}.html\"><img src=\"../../images/{1:2}/{2:s}\" style=\"max-width: 150px; padding:5px\"></a>\\n'.format(hpath, cn, img_path))\n",
    "\n",
    "    f.write(\"</div>\\n\")\n",
    "    f.write(\"</div>\\n\")"
   ]
  },
  {
   "cell_type": "code",
   "execution_count": null,
   "metadata": {},
   "outputs": [],
   "source": [
    "def create_image_pages(cn, corpus, X):\n",
    "    for item in range(X.shape[0]):\n",
    "        \n",
    "        img_path = corpus['filename'][item]\n",
    "        url = os.path.split(img_path)[1]\n",
    "        \n",
    "        f = open(join('..', 'html', 'pages', rm_ext(url) + \".html\"), 'w')\n",
    "        write_header(f, cn, index=False)\n",
    "    \n",
    "        f.write(\"<div style='padding:25px'>\\n\")\n",
    "\n",
    "        # Main image\n",
    "        f.write(\"<div style='float: left; width: 610px;'>\\n\")\n",
    "        f.write('<img src=\"../../images/{0:s}/{1:s}\" style=\"max-width: 600px; max-height: 500px;\">\\n'.format(cn, img_path))\n",
    "        f.write(\"</div>\\n\\n\")\n",
    "        \n",
    "        # Main information box\n",
    "        save_metadata(f, cn, corpus, X, item)\n",
    "        \n",
    "        # Similar\n",
    "        save_similar_img(f, cn, corpus, X, item)\n",
    "\n",
    "        f.write(\"</body>\\n\")\n",
    "        f.close()"
   ]
  },
  {
   "cell_type": "markdown",
   "metadata": {},
   "source": [
    "## Step 3: Create the embeddings\n",
    "\n",
    "The next step is create the embeddings. If there is no metadata, this code\n",
    "will also create it."
   ]
  },
  {
   "cell_type": "code",
   "execution_count": null,
   "metadata": {},
   "outputs": [],
   "source": [
    "check_create_metadata(cn)\n",
    "create_embed(cn)"
   ]
  },
  {
   "cell_type": "markdown",
   "metadata": {},
   "source": [
    "### Step 4: Create the website\n",
    "\n",
    "Finally, create the website with the code below."
   ]
  },
  {
   "cell_type": "code",
   "execution_count": null,
   "metadata": {},
   "outputs": [],
   "source": [
    "clean_html()\n",
    "corpus = pd.read_csv(join(\"..\", \"data\", cn + \".csv\"))\n",
    "X = load_data(cn)\n",
    "\n",
    "create_index(cn, corpus)\n",
    "create_image_pages(cn, corpus, X)"
   ]
  },
  {
   "cell_type": "markdown",
   "metadata": {},
   "source": [
    "You should find a folder called `html`. Open that folder and double click on the\n",
    "file `index.html`, opening it in a web browser (Chrome or Firefox preferred; Safari\n",
    "should work too). Do not open it in Jupyter.\n",
    "\n",
    "You will see a list of all of the available images from the corpus you selected.\n",
    "Click on one and you'll get to an item page for that image. From there you can\n",
    "see the image itself, available metadata, select the previous or next image in the\n",
    "corpus, and view similar images from the VGG19 similarity measurement."
   ]
  },
  {
   "cell_type": "code",
   "execution_count": null,
   "metadata": {},
   "outputs": [],
   "source": []
  }
 ],
 "metadata": {
  "kernelspec": {
   "display_name": "Python 3",
   "language": "python",
   "name": "python3"
  },
  "language_info": {
   "codemirror_mode": {
    "name": "ipython",
    "version": 3
   },
   "file_extension": ".py",
   "mimetype": "text/x-python",
   "name": "python",
   "nbconvert_exporter": "python",
   "pygments_lexer": "ipython3",
   "version": "3.7.3"
  },
  "widgets": {
   "state": {},
   "version": "1.1.2"
  }
 },
 "nbformat": 4,
 "nbformat_minor": 2
}
